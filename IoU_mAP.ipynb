{
  "nbformat": 4,
  "nbformat_minor": 0,
  "metadata": {
    "colab": {
      "provenance": []
    },
    "kernelspec": {
      "name": "python3",
      "display_name": "Python 3"
    },
    "language_info": {
      "name": "python"
    },
    "gpuClass": "standard"
  },
  "cells": [
    {
      "cell_type": "code",
      "source": [
        "\"\"\"\n",
        "Code for calculating the mAP of any Object Detection Model--------------\n",
        "\n",
        "Steps:\n",
        "\n",
        "    1. created manually the ground-truth boxes in the following manner ([x, y, width, height, class-label])\n",
        "    2. created manually the predicted boxes in the following manner ([x, y, width, height, confidence score])\n",
        "    3. sorted predicted boxes in descending order based on confidence score\n",
        "    4. computed the Intersection over Union (IoU) to check the overlapping between a predicted box and any ground-truth box\n",
        "    5. computed the confusion matrix for calculating Average Precision (true positive, false positive)\n",
        "    6. computed the Average Precision for calculating the mAP\n",
        "    7. computed the Mean Average Precision (mAP)\n",
        "    8. visualized some plots for better understanding\n",
        "\n",
        "\n",
        "    References: \n",
        "\n",
        "    1. https://shubhamchauhan125.medium.com/map-mean-average-precision-for-object-detection-with-simple-python-demonstration-dcc7b3850a07\n",
        "    2. https://pyimagesearch.com/2022/05/02/mean-average-precision-map-using-the-coco-evaluator/\n",
        "\"\"\""
      ],
      "metadata": {
        "colab": {
          "base_uri": "https://localhost:8080/",
          "height": 122
        },
        "id": "HwX1TsfodNd_",
        "outputId": "ed8dd07a-fa3f-4bd5-b44c-230ef91c66d0"
      },
      "execution_count": 28,
      "outputs": [
        {
          "output_type": "execute_result",
          "data": {
            "text/plain": [
              "'\\nCode for calculating the mAP of any Object Detection Model--------------\\n\\nSteps:\\n\\n    1. created manually the ground-truth boxes in the following manner ([x, y, width, height, class-label])\\n    2. created manually the predicted boxes in the following manner ([x, y, width, height, confidence score])\\n    3. sorted predicted boxes in descending order based on confidence score\\n    4. computed the Intersection over Union (IoU) to check the overlapping between a predicted box and any ground-truth box\\n    5. computed the confusion matrix for calculating Average Precision (true positive, false positive)\\n    6. computed the Average Precision for calculating the mAP\\n    7. computed the Mean Average Precision (mAP)\\n    8. visualized some plots for better understanding\\n\\n\\n    References: \\n\\n    1. https://shubhamchauhan125.medium.com/map-mean-average-precision-for-object-detection-with-simple-python-demonstration-dcc7b3850a07\\n    2. \\n'"
            ],
            "application/vnd.google.colaboratory.intrinsic+json": {
              "type": "string"
            }
          },
          "metadata": {},
          "execution_count": 28
        }
      ]
    },
    {
      "cell_type": "code",
      "source": [
        "# importing numpy for matrices operation\n",
        "import numpy as np"
      ],
      "metadata": {
        "id": "msohVPHOrGcn"
      },
      "execution_count": 29,
      "outputs": []
    },
    {
      "cell_type": "code",
      "source": [
        "# defining the ground truth (demo class number at the last index) and predicted boxes (confidence scores at the last index)\n",
        "gt_boxes = np.array([\n",
        "                     [10, 10, 50, 50, 0], \n",
        "                     [60, 60, 100, 100, 0], \n",
        "                     [120, 120, 160, 160, 0], \n",
        "                     [200, 200, 240, 240, 0], \n",
        "                     [300, 300, 340, 340, 0]\n",
        "                     ])\n",
        "\n",
        "pred_boxes = np.array([\n",
        "                     [8, 8, 48, 48, 0.8], \n",
        "                     [10, 10, 50, 50, 0.9], \n",
        "                     [60, 60, 100, 100, 0.7], \n",
        "                     [120, 120, 160, 160, 0.6], \n",
        "                     [200, 200, 240, 240, 0.5]\n",
        "                     ])\n",
        "\n",
        "# sorting (descending) the predicted boxes by confidence scores\n",
        "pred_boxes = pred_boxes[pred_boxes[:, 4].argsort()[::-1]]\n",
        "pred_boxes"
      ],
      "metadata": {
        "id": "sGGsN1Ar3-jl",
        "colab": {
          "base_uri": "https://localhost:8080/"
        },
        "outputId": "f41e2308-ddf5-42a7-9688-6f0ef291919d"
      },
      "execution_count": 30,
      "outputs": [
        {
          "output_type": "execute_result",
          "data": {
            "text/plain": [
              "array([[ 10. ,  10. ,  50. ,  50. ,   0.9],\n",
              "       [  8. ,   8. ,  48. ,  48. ,   0.8],\n",
              "       [ 60. ,  60. , 100. , 100. ,   0.7],\n",
              "       [120. , 120. , 160. , 160. ,   0.6],\n",
              "       [200. , 200. , 240. , 240. ,   0.5]])"
            ]
          },
          "metadata": {},
          "execution_count": 30
        }
      ]
    },
    {
      "cell_type": "code",
      "source": [
        "# computing the intersection over union (IoU) between two bounding boxes\n",
        "def compute_iou(box1, box2):\n",
        "    \"\"\"Ensuring successful parameters passing\"\"\"\n",
        "    print(\"box1 before unpacking: \", box1)\n",
        "    print(\"box2 before unpacking: \", box2)\n",
        "\n",
        "    x1, y1, w1, h1 = box1                             # unpacking as x coordinate, y coordinate, width, height of predicted box\n",
        "    print(\"x coordinate of predicted box: \", x1)\n",
        "    print(\"y coordinate of predicted box: \", y1)\n",
        "    print(\"width of predicted box: \", w1)\n",
        "    print(\"height of predicted box: \", h1)\n",
        "\n",
        "    x2, y2, w2, h2 = box2                             # unpacking as x coordinate, y coordinate, width, height of ground-truth box\n",
        "    print(\"x coordinate of ground-truth box: \", x2)\n",
        "    print(\"y coordinate of ground-truth box: \", y2)\n",
        "    print(\"width of ground-truth box: \", w2)\n",
        "    print(\"height of ground-truth box: \", h2)\n",
        "\n",
        "    xi1 = max(x1, x2)                                 # computes the leftmost x-coordinate of the intersection of the two boxes\n",
        "\n",
        "    yi1 = max(y1, y2)                                 # computes the topmost y-coordinate of the intersection of the two boxes\n",
        "\n",
        "    xi2 = min(x1 + w1, x2 + w2)                       # computes the rightmost x-coordinate of the intersection of the two boxes\n",
        "\n",
        "    yi2 = min(y1 + h1, y2 + h2)                       # computes the bottommost y-coordinate of the intersection of the two boxes\n",
        "\n",
        "    if xi2 <= xi1 or yi2 <= yi1:                      # checking if the two boxes are not overlapping\n",
        "        print(\"No overlapped!\")\n",
        "        return 0.0\n",
        "    else:                                             \n",
        "        print(\"Overlapped!\")\n",
        "        inter_area = (xi2 - xi1) * (yi2 - yi1)        # computing the area of the intersection between the two boxes\n",
        "        box1_area = w1 * h1                           # computing the area of the predicted box\n",
        "        box2_area = w2 * h2                           # computing the area of the ground-truth box\n",
        "        iou = inter_area / (box1_area + box2_area - inter_area)     # computing the IoU\n",
        "        return iou"
      ],
      "metadata": {
        "id": "B04W3kht3-HM"
      },
      "execution_count": 31,
      "outputs": []
    },
    {
      "cell_type": "code",
      "source": [
        "# Calculate the number of true positives (tp) and false positives (fp) at each point\n",
        "tp = np.zeros(len(pred_boxes))\n",
        "fp = np.zeros(len(pred_boxes))\n",
        "for i in range(len(pred_boxes)):\n",
        "    iou_max = -np.inf\n",
        "    for j in range(len(gt_boxes)):\n",
        "        iou = compute_iou(pred_boxes[i, :4], gt_boxes[j, :4])\n",
        "        if iou > iou_max:\n",
        "            iou_max = iou\n",
        "            j_max = j\n",
        "    if iou_max >= 0.5:\n",
        "        if not gt_boxes[j_max, 4]:\n",
        "            tp[i] = 1.\n",
        "            gt_boxes[j_max, 4] = 1.   # tracking the already matched ground-truth box\n",
        "        else:\n",
        "            fp[i] = 1.\n",
        "    else:\n",
        "        fp[i] = 1."
      ],
      "metadata": {
        "id": "Bqb8SV9d4C49",
        "colab": {
          "base_uri": "https://localhost:8080/"
        },
        "outputId": "82ecd5d2-780b-4b9c-f133-f7d8a7507d89"
      },
      "execution_count": 32,
      "outputs": [
        {
          "output_type": "stream",
          "name": "stdout",
          "text": [
            "box1 before unpacking:  [10. 10. 50. 50.]\n",
            "box2 before unpacking:  [10 10 50 50]\n",
            "x coordinate of predicted box:  10.0\n",
            "y coordinate of predicted box:  10.0\n",
            "width of predicted box:  50.0\n",
            "height of predicted box:  50.0\n",
            "x coordinate of ground-truth box:  10\n",
            "y coordinate of ground-truth box:  10\n",
            "width of ground-truth box:  50\n",
            "height of ground-truth box:  50\n",
            "Overlapped!\n",
            "box1 before unpacking:  [10. 10. 50. 50.]\n",
            "box2 before unpacking:  [ 60  60 100 100]\n",
            "x coordinate of predicted box:  10.0\n",
            "y coordinate of predicted box:  10.0\n",
            "width of predicted box:  50.0\n",
            "height of predicted box:  50.0\n",
            "x coordinate of ground-truth box:  60\n",
            "y coordinate of ground-truth box:  60\n",
            "width of ground-truth box:  100\n",
            "height of ground-truth box:  100\n",
            "No overlapped!\n",
            "box1 before unpacking:  [10. 10. 50. 50.]\n",
            "box2 before unpacking:  [120 120 160 160]\n",
            "x coordinate of predicted box:  10.0\n",
            "y coordinate of predicted box:  10.0\n",
            "width of predicted box:  50.0\n",
            "height of predicted box:  50.0\n",
            "x coordinate of ground-truth box:  120\n",
            "y coordinate of ground-truth box:  120\n",
            "width of ground-truth box:  160\n",
            "height of ground-truth box:  160\n",
            "No overlapped!\n",
            "box1 before unpacking:  [10. 10. 50. 50.]\n",
            "box2 before unpacking:  [200 200 240 240]\n",
            "x coordinate of predicted box:  10.0\n",
            "y coordinate of predicted box:  10.0\n",
            "width of predicted box:  50.0\n",
            "height of predicted box:  50.0\n",
            "x coordinate of ground-truth box:  200\n",
            "y coordinate of ground-truth box:  200\n",
            "width of ground-truth box:  240\n",
            "height of ground-truth box:  240\n",
            "No overlapped!\n",
            "box1 before unpacking:  [10. 10. 50. 50.]\n",
            "box2 before unpacking:  [300 300 340 340]\n",
            "x coordinate of predicted box:  10.0\n",
            "y coordinate of predicted box:  10.0\n",
            "width of predicted box:  50.0\n",
            "height of predicted box:  50.0\n",
            "x coordinate of ground-truth box:  300\n",
            "y coordinate of ground-truth box:  300\n",
            "width of ground-truth box:  340\n",
            "height of ground-truth box:  340\n",
            "No overlapped!\n",
            "box1 before unpacking:  [ 8.  8. 48. 48.]\n",
            "box2 before unpacking:  [10 10 50 50]\n",
            "x coordinate of predicted box:  8.0\n",
            "y coordinate of predicted box:  8.0\n",
            "width of predicted box:  48.0\n",
            "height of predicted box:  48.0\n",
            "x coordinate of ground-truth box:  10\n",
            "y coordinate of ground-truth box:  10\n",
            "width of ground-truth box:  50\n",
            "height of ground-truth box:  50\n",
            "Overlapped!\n",
            "box1 before unpacking:  [ 8.  8. 48. 48.]\n",
            "box2 before unpacking:  [ 60  60 100 100]\n",
            "x coordinate of predicted box:  8.0\n",
            "y coordinate of predicted box:  8.0\n",
            "width of predicted box:  48.0\n",
            "height of predicted box:  48.0\n",
            "x coordinate of ground-truth box:  60\n",
            "y coordinate of ground-truth box:  60\n",
            "width of ground-truth box:  100\n",
            "height of ground-truth box:  100\n",
            "No overlapped!\n",
            "box1 before unpacking:  [ 8.  8. 48. 48.]\n",
            "box2 before unpacking:  [120 120 160 160]\n",
            "x coordinate of predicted box:  8.0\n",
            "y coordinate of predicted box:  8.0\n",
            "width of predicted box:  48.0\n",
            "height of predicted box:  48.0\n",
            "x coordinate of ground-truth box:  120\n",
            "y coordinate of ground-truth box:  120\n",
            "width of ground-truth box:  160\n",
            "height of ground-truth box:  160\n",
            "No overlapped!\n",
            "box1 before unpacking:  [ 8.  8. 48. 48.]\n",
            "box2 before unpacking:  [200 200 240 240]\n",
            "x coordinate of predicted box:  8.0\n",
            "y coordinate of predicted box:  8.0\n",
            "width of predicted box:  48.0\n",
            "height of predicted box:  48.0\n",
            "x coordinate of ground-truth box:  200\n",
            "y coordinate of ground-truth box:  200\n",
            "width of ground-truth box:  240\n",
            "height of ground-truth box:  240\n",
            "No overlapped!\n",
            "box1 before unpacking:  [ 8.  8. 48. 48.]\n",
            "box2 before unpacking:  [300 300 340 340]\n",
            "x coordinate of predicted box:  8.0\n",
            "y coordinate of predicted box:  8.0\n",
            "width of predicted box:  48.0\n",
            "height of predicted box:  48.0\n",
            "x coordinate of ground-truth box:  300\n",
            "y coordinate of ground-truth box:  300\n",
            "width of ground-truth box:  340\n",
            "height of ground-truth box:  340\n",
            "No overlapped!\n",
            "box1 before unpacking:  [ 60.  60. 100. 100.]\n",
            "box2 before unpacking:  [10 10 50 50]\n",
            "x coordinate of predicted box:  60.0\n",
            "y coordinate of predicted box:  60.0\n",
            "width of predicted box:  100.0\n",
            "height of predicted box:  100.0\n",
            "x coordinate of ground-truth box:  10\n",
            "y coordinate of ground-truth box:  10\n",
            "width of ground-truth box:  50\n",
            "height of ground-truth box:  50\n",
            "No overlapped!\n",
            "box1 before unpacking:  [ 60.  60. 100. 100.]\n",
            "box2 before unpacking:  [ 60  60 100 100]\n",
            "x coordinate of predicted box:  60.0\n",
            "y coordinate of predicted box:  60.0\n",
            "width of predicted box:  100.0\n",
            "height of predicted box:  100.0\n",
            "x coordinate of ground-truth box:  60\n",
            "y coordinate of ground-truth box:  60\n",
            "width of ground-truth box:  100\n",
            "height of ground-truth box:  100\n",
            "Overlapped!\n",
            "box1 before unpacking:  [ 60.  60. 100. 100.]\n",
            "box2 before unpacking:  [120 120 160 160]\n",
            "x coordinate of predicted box:  60.0\n",
            "y coordinate of predicted box:  60.0\n",
            "width of predicted box:  100.0\n",
            "height of predicted box:  100.0\n",
            "x coordinate of ground-truth box:  120\n",
            "y coordinate of ground-truth box:  120\n",
            "width of ground-truth box:  160\n",
            "height of ground-truth box:  160\n",
            "Overlapped!\n",
            "box1 before unpacking:  [ 60.  60. 100. 100.]\n",
            "box2 before unpacking:  [200 200 240 240]\n",
            "x coordinate of predicted box:  60.0\n",
            "y coordinate of predicted box:  60.0\n",
            "width of predicted box:  100.0\n",
            "height of predicted box:  100.0\n",
            "x coordinate of ground-truth box:  200\n",
            "y coordinate of ground-truth box:  200\n",
            "width of ground-truth box:  240\n",
            "height of ground-truth box:  240\n",
            "No overlapped!\n",
            "box1 before unpacking:  [ 60.  60. 100. 100.]\n",
            "box2 before unpacking:  [300 300 340 340]\n",
            "x coordinate of predicted box:  60.0\n",
            "y coordinate of predicted box:  60.0\n",
            "width of predicted box:  100.0\n",
            "height of predicted box:  100.0\n",
            "x coordinate of ground-truth box:  300\n",
            "y coordinate of ground-truth box:  300\n",
            "width of ground-truth box:  340\n",
            "height of ground-truth box:  340\n",
            "No overlapped!\n",
            "box1 before unpacking:  [120. 120. 160. 160.]\n",
            "box2 before unpacking:  [10 10 50 50]\n",
            "x coordinate of predicted box:  120.0\n",
            "y coordinate of predicted box:  120.0\n",
            "width of predicted box:  160.0\n",
            "height of predicted box:  160.0\n",
            "x coordinate of ground-truth box:  10\n",
            "y coordinate of ground-truth box:  10\n",
            "width of ground-truth box:  50\n",
            "height of ground-truth box:  50\n",
            "No overlapped!\n",
            "box1 before unpacking:  [120. 120. 160. 160.]\n",
            "box2 before unpacking:  [ 60  60 100 100]\n",
            "x coordinate of predicted box:  120.0\n",
            "y coordinate of predicted box:  120.0\n",
            "width of predicted box:  160.0\n",
            "height of predicted box:  160.0\n",
            "x coordinate of ground-truth box:  60\n",
            "y coordinate of ground-truth box:  60\n",
            "width of ground-truth box:  100\n",
            "height of ground-truth box:  100\n",
            "Overlapped!\n",
            "box1 before unpacking:  [120. 120. 160. 160.]\n",
            "box2 before unpacking:  [120 120 160 160]\n",
            "x coordinate of predicted box:  120.0\n",
            "y coordinate of predicted box:  120.0\n",
            "width of predicted box:  160.0\n",
            "height of predicted box:  160.0\n",
            "x coordinate of ground-truth box:  120\n",
            "y coordinate of ground-truth box:  120\n",
            "width of ground-truth box:  160\n",
            "height of ground-truth box:  160\n",
            "Overlapped!\n",
            "box1 before unpacking:  [120. 120. 160. 160.]\n",
            "box2 before unpacking:  [200 200 240 240]\n",
            "x coordinate of predicted box:  120.0\n",
            "y coordinate of predicted box:  120.0\n",
            "width of predicted box:  160.0\n",
            "height of predicted box:  160.0\n",
            "x coordinate of ground-truth box:  200\n",
            "y coordinate of ground-truth box:  200\n",
            "width of ground-truth box:  240\n",
            "height of ground-truth box:  240\n",
            "Overlapped!\n",
            "box1 before unpacking:  [120. 120. 160. 160.]\n",
            "box2 before unpacking:  [300 300 340 340]\n",
            "x coordinate of predicted box:  120.0\n",
            "y coordinate of predicted box:  120.0\n",
            "width of predicted box:  160.0\n",
            "height of predicted box:  160.0\n",
            "x coordinate of ground-truth box:  300\n",
            "y coordinate of ground-truth box:  300\n",
            "width of ground-truth box:  340\n",
            "height of ground-truth box:  340\n",
            "No overlapped!\n",
            "box1 before unpacking:  [200. 200. 240. 240.]\n",
            "box2 before unpacking:  [10 10 50 50]\n",
            "x coordinate of predicted box:  200.0\n",
            "y coordinate of predicted box:  200.0\n",
            "width of predicted box:  240.0\n",
            "height of predicted box:  240.0\n",
            "x coordinate of ground-truth box:  10\n",
            "y coordinate of ground-truth box:  10\n",
            "width of ground-truth box:  50\n",
            "height of ground-truth box:  50\n",
            "No overlapped!\n",
            "box1 before unpacking:  [200. 200. 240. 240.]\n",
            "box2 before unpacking:  [ 60  60 100 100]\n",
            "x coordinate of predicted box:  200.0\n",
            "y coordinate of predicted box:  200.0\n",
            "width of predicted box:  240.0\n",
            "height of predicted box:  240.0\n",
            "x coordinate of ground-truth box:  60\n",
            "y coordinate of ground-truth box:  60\n",
            "width of ground-truth box:  100\n",
            "height of ground-truth box:  100\n",
            "No overlapped!\n",
            "box1 before unpacking:  [200. 200. 240. 240.]\n",
            "box2 before unpacking:  [120 120 160 160]\n",
            "x coordinate of predicted box:  200.0\n",
            "y coordinate of predicted box:  200.0\n",
            "width of predicted box:  240.0\n",
            "height of predicted box:  240.0\n",
            "x coordinate of ground-truth box:  120\n",
            "y coordinate of ground-truth box:  120\n",
            "width of ground-truth box:  160\n",
            "height of ground-truth box:  160\n",
            "Overlapped!\n",
            "box1 before unpacking:  [200. 200. 240. 240.]\n",
            "box2 before unpacking:  [200 200 240 240]\n",
            "x coordinate of predicted box:  200.0\n",
            "y coordinate of predicted box:  200.0\n",
            "width of predicted box:  240.0\n",
            "height of predicted box:  240.0\n",
            "x coordinate of ground-truth box:  200\n",
            "y coordinate of ground-truth box:  200\n",
            "width of ground-truth box:  240\n",
            "height of ground-truth box:  240\n",
            "Overlapped!\n",
            "box1 before unpacking:  [200. 200. 240. 240.]\n",
            "box2 before unpacking:  [300 300 340 340]\n",
            "x coordinate of predicted box:  200.0\n",
            "y coordinate of predicted box:  200.0\n",
            "width of predicted box:  240.0\n",
            "height of predicted box:  240.0\n",
            "x coordinate of ground-truth box:  300\n",
            "y coordinate of ground-truth box:  300\n",
            "width of ground-truth box:  340\n",
            "height of ground-truth box:  340\n",
            "Overlapped!\n"
          ]
        }
      ]
    },
    {
      "cell_type": "code",
      "source": [
        "# Calculate precision and recall at each point\n",
        "tp_cumsum = np.cumsum(tp)\n",
        "print(\"Cumulative sum of true-positive: \", tp_cumsum)\n",
        "fp_cumsum = np.cumsum(fp)\n",
        "print(\"Cumulative sum of false-positive: \", fp_cumsum)\n",
        "recall = tp_cumsum / len(gt_boxes)                     # representing the fraction of relevant ground-truth boxes that are successfully retrieved by the algorithm\n",
        "print(\"Recall value: \", recall)\n",
        "precision = tp_cumsum / (tp_cumsum + fp_cumsum)        # representing the fraction of predicted boxes that are actually relevant\n",
        "print(\"Precision value: \", precision)"
      ],
      "metadata": {
        "id": "HXQFtWMZ4H0t",
        "colab": {
          "base_uri": "https://localhost:8080/"
        },
        "outputId": "b5042a6d-f5d5-4217-9d41-e6fe73b4413a"
      },
      "execution_count": 33,
      "outputs": [
        {
          "output_type": "stream",
          "name": "stdout",
          "text": [
            "Cumulative sum of true-positive:  [1. 1. 2. 3. 4.]\n",
            "Cumulative sum of false-positive:  [0. 1. 1. 1. 1.]\n",
            "Recall value:  [0.2 0.2 0.4 0.6 0.8]\n",
            "Precision value:  [1.         0.5        0.66666667 0.75       0.8       ]\n"
          ]
        }
      ]
    },
    {
      "cell_type": "code",
      "source": [
        "# Compute average precision (AP)\n",
        "ap = 0\n",
        "for t in np.arange(0., 1.1, 0.1):\n",
        "    print(\"Current value in t: \", t)\n",
        "    if np.sum(recall >= t) == 0:\n",
        "        p = 0\n",
        "    else:\n",
        "        p = np.max(precision[recall >= t])      # calculating the maximum precision value for each threshold for all points in the precision array where the recall is greater than or equal to the threshold\n",
        "        print(\"Current value in p: \", p)\n",
        "    ap += p / 11.0\n",
        "    print(\"Current value in ap: \", ap)\n",
        "print(\"Average Precision: \", ap)"
      ],
      "metadata": {
        "id": "XRDEnWNl4KRl",
        "colab": {
          "base_uri": "https://localhost:8080/"
        },
        "outputId": "036a7b98-524d-46ac-c510-fec7c664e9b3"
      },
      "execution_count": 34,
      "outputs": [
        {
          "output_type": "stream",
          "name": "stdout",
          "text": [
            "Current value in t:  0.0\n",
            "Current value in p:  1.0\n",
            "Current value in ap:  0.09090909090909091\n",
            "Current value in t:  0.1\n",
            "Current value in p:  1.0\n",
            "Current value in ap:  0.18181818181818182\n",
            "Current value in t:  0.2\n",
            "Current value in p:  1.0\n",
            "Current value in ap:  0.2727272727272727\n",
            "Current value in t:  0.30000000000000004\n",
            "Current value in p:  0.8\n",
            "Current value in ap:  0.34545454545454546\n",
            "Current value in t:  0.4\n",
            "Current value in p:  0.8\n",
            "Current value in ap:  0.4181818181818182\n",
            "Current value in t:  0.5\n",
            "Current value in p:  0.8\n",
            "Current value in ap:  0.49090909090909096\n",
            "Current value in t:  0.6000000000000001\n",
            "Current value in p:  0.8\n",
            "Current value in ap:  0.5636363636363637\n",
            "Current value in t:  0.7000000000000001\n",
            "Current value in p:  0.8\n",
            "Current value in ap:  0.6363636363636365\n",
            "Current value in t:  0.8\n",
            "Current value in p:  0.8\n",
            "Current value in ap:  0.7090909090909092\n",
            "Current value in t:  0.9\n",
            "Current value in ap:  0.7090909090909092\n",
            "Current value in t:  1.0\n",
            "Current value in ap:  0.7090909090909092\n",
            "Average Precision:  0.7090909090909092\n"
          ]
        }
      ]
    },
    {
      "cell_type": "code",
      "source": [
        "# Compute mean average precision (mAP)\n",
        "mAP = np.mean(ap)\n",
        "print(\"mAP:\", mAP)                    # mAP should be the same as ap for being only one class here"
      ],
      "metadata": {
        "colab": {
          "base_uri": "https://localhost:8080/"
        },
        "id": "KZ2zt5hY4M8j",
        "outputId": "2235db41-4743-4ec8-8a1e-80a554ddc37c"
      },
      "execution_count": 35,
      "outputs": [
        {
          "output_type": "stream",
          "name": "stdout",
          "text": [
            "mAP: 0.7090909090909092\n"
          ]
        }
      ]
    },
    {
      "cell_type": "code",
      "source": [
        "import matplotlib.pyplot as plt\n",
        "\n",
        "# Plot precision-recall curve\n",
        "plt.plot(recall, precision)\n",
        "plt.xlabel('Recall')\n",
        "plt.ylabel('Precision')\n",
        "plt.title('Precision-Recall Curve')\n",
        "plt.show()"
      ],
      "metadata": {
        "colab": {
          "base_uri": "https://localhost:8080/",
          "height": 295
        },
        "id": "FXhJlqV82Rw1",
        "outputId": "b93aeb87-0f34-4fb3-b311-5b3c351a021f"
      },
      "execution_count": 36,
      "outputs": [
        {
          "output_type": "display_data",
          "data": {
            "text/plain": [
              "<Figure size 432x288 with 1 Axes>"
            ],
            "image/png": "[encoded data removed]"
          },
          "metadata": {
            "needs_background": "light"
          }
        }
      ]
    },
    {
      "cell_type": "code",
      "source": [
        "# Plot average precision (AP) for each class (only 1 class is here for simplicity purpose)\n",
        "plt.bar(np.arange(1), ap)\n",
        "plt.xlabel('Class')\n",
        "plt.ylabel('Average Precision (AP)')\n",
        "plt.title('AP per Class')\n",
        "plt.xticks(np.arange(1))\n",
        "plt.show()"
      ],
      "metadata": {
        "colab": {
          "base_uri": "https://localhost:8080/",
          "height": 295
        },
        "id": "rK-hZRsW3wo-",
        "outputId": "9be9b0e9-e24f-45a5-d04a-1bf21ed0d7df"
      },
      "execution_count": 37,
      "outputs": [
        {
          "output_type": "display_data",
          "data": {
            "text/plain": [
              "<Figure size 432x288 with 1 Axes>"
            ],
            "image/png": "[encoded data removed]"
          },
          "metadata": {
            "needs_background": "light"
          }
        }
      ]
    },
    {
      "cell_type": "code",
      "source": [
        "# Plot mean average precision (mAP)\n",
        "plt.bar(np.arange(1), mAP)\n",
        "plt.xlabel('Class')\n",
        "plt.ylabel('Mean Average Precision (mAP)')\n",
        "plt.title('mAP')\n",
        "plt.xticks(np.arange(1))\n",
        "plt.show()"
      ],
      "metadata": {
        "colab": {
          "base_uri": "https://localhost:8080/",
          "height": 295
        },
        "id": "iglaKkzD3yZd",
        "outputId": "122c0ac4-0153-48c9-9756-d4327a70bfa0"
      },
      "execution_count": 38,
      "outputs": [
        {
          "output_type": "display_data",
          "data": {
            "text/plain": [
              "<Figure size 432x288 with 1 Axes>"
            ],
            "image/png": "[encoded data removed]"
          },
          "metadata": {
            "needs_background": "light"
          }
        }
      ]
    },
    {
      "cell_type": "code",
      "source": [],
      "metadata": {
        "id": "su7hgTV2C73U"
      },
      "execution_count": 38,
      "outputs": []
    }
  ]
}